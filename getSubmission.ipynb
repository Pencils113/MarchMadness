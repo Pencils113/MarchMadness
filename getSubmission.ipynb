{
  "nbformat": 4,
  "nbformat_minor": 0,
  "metadata": {
    "colab": {
      "provenance": []
    },
    "kernelspec": {
      "name": "python3",
      "display_name": "Python 3"
    },
    "language_info": {
      "name": "python"
    }
  },
  "cells": [
    {
      "cell_type": "code",
      "source": [
        "import pandas as pd\n",
        "import numpy as np\n",
        "import gspread\n",
        "import statsmodels.formula.api as sm\n",
        "import statsmodels.api as sma\n",
        "from google.auth import default\n",
        "from google.colab import drive\n",
        "from google.colab import auth\n",
        "drive.mount('/content/gdrive')\n",
        "creds, _ = default()\n",
        "gc = gspread.authorize(creds)\n",
        "auth.authenticate_user()"
      ],
      "metadata": {
        "colab": {
          "base_uri": "https://localhost:8080/"
        },
        "id": "UqXkYmPNBjY2",
        "outputId": "850ce43c-855c-410e-bc2e-2879fd9b8783"
      },
      "execution_count": 1,
      "outputs": [
        {
          "output_type": "stream",
          "name": "stdout",
          "text": [
            "Mounted at /content/gdrive\n"
          ]
        }
      ]
    },
    {
      "cell_type": "code",
      "source": [
        "yearList = [2010, 2011, 2012, 2013, 2014, 2015, 2016, 2017, 2018, 2019, 2021, 2022, 2023]\n",
        "colList = [\"WFGM\", \"WFGA\", \"WFGM3\", \"WFGA3\", \"WFTM\", \"WFTA\", \"WOR\", \"WDR\", \"WAst\", \"WTO\", \"WStl\", \"WBlk\", \"WPF\", \"LFGM\", \"LFGA\", \"LFGM3\", \"LFGA3\", \"LFTM\", \"LFTA\", \"LOR\", \"LDR\", \"LAst\", \"LTO\", \"LStl\", \"LBlk\", \"LPF\"]\n",
        "PATH = \"/content/gdrive/MyDrive/ZSchool_Projects/Purdue/Fun/Kaggle2023/\" #Path to storage of Kaggle provided data\n",
        "MIN_M, MAX_M = 1101, 1477\n",
        "MIN_W, MAX_W = 3101, 3477\n",
        "\n",
        "w = False"
      ],
      "metadata": {
        "id": "xTU28iVvBgbR"
      },
      "execution_count": 6,
      "outputs": []
    },
    {
      "cell_type": "code",
      "source": [
        "sampleOutput = pd.read_csv(PATH + \"output10.csv\")\n",
        "sampleOutput[[\"Year\",\"Team1\",\"Team2\"]] = sampleOutput[\"ID\"].str.split('_',expand=True)"
      ],
      "metadata": {
        "id": "oh-VUdThB0Zg"
      },
      "execution_count": 7,
      "outputs": []
    },
    {
      "cell_type": "code",
      "source": [
        "\n",
        "worksheetW = gc.open('WNCAATourneySeedsReal').sheet1\n",
        "worksheet = gc.open('MNCAATourneySeedsReal').sheet1\n",
        "\n",
        "rows = worksheet.get_all_values()\n",
        "almostThere = pd.DataFrame.from_records(rows)\n",
        "almostThere.columns=almostThere.iloc[0]\n",
        "almostThere = almostThere[1:]\n",
        "\n",
        "rowsW = worksheetW.get_all_values()\n",
        "almostThereW = pd.DataFrame.from_records(rowsW)\n",
        "almostThereW.columns=almostThereW.iloc[0]\n",
        "almostThereW = almostThereW[1:]\n",
        "\n",
        "\n",
        "seedList = []\n",
        "worList = []\n",
        "wdrList = []\n",
        "wtoList = []\n",
        "wstlList = []\n",
        "\n",
        "for index in range(1, len(sampleOutput[\"Team1\"])):\n",
        "  if int(sampleOutput[\"Team1\"][index]) > 2000:\n",
        "    if sampleOutput[\"Team1\"][index] in list(almostThereW[\"TeamID\"]) and sampleOutput[\"Team2\"][index] in list(almostThereW[\"TeamID\"]):\n",
        "      index1 = list(almostThereW[\"TeamID\"]).index(sampleOutput[\"Team1\"][index])\n",
        "      index2 = list(almostThereW[\"TeamID\"]).index(sampleOutput[\"Team2\"][index])\n",
        "      seedList.append(float(almostThereW[\"Seed\"][index1 + 1]) - float(almostThereW[\"Seed\"][index2 + 1]))\n",
        "      worList.append(float(almostThereW[\"WOR\"][index1 + 1]) - float(almostThereW[\"WOR\"][index2 + 1]))\n",
        "      wdrList.append(float(almostThereW[\"WDR\"][index1 + 1]) - float(almostThereW[\"WDR\"][index2 + 1]))\n",
        "      wtoList.append(float(almostThereW[\"WTO\"][index1 + 1]) - float(almostThereW[\"WTO\"][index2 + 1]))\n",
        "      wstlList.append(float(almostThereW[\"WStl\"][index1 + 1]) - float(almostThereW[\"WStl\"][index2 + 1]))\n",
        "    else:\n",
        "      seedList.append(0)\n",
        "      worList.append(0)\n",
        "      wdrList.append(0)\n",
        "      wtoList.append(0)\n",
        "      wstlList.append(0)\n",
        "  else:\n",
        "    if sampleOutput[\"Team1\"][index] in list(almostThere[\"TeamID\"]) and sampleOutput[\"Team2\"][index] in list(almostThere[\"TeamID\"]):\n",
        "      index1 = list(almostThere[\"TeamID\"]).index(sampleOutput[\"Team1\"][index])\n",
        "      index2 = list(almostThere[\"TeamID\"]).index(sampleOutput[\"Team2\"][index])\n",
        "      seedList.append(float(almostThere[\"Seed\"][index1 + 1]) - float(almostThere[\"Seed\"][index2 + 1]))\n",
        "      worList.append(float(almostThere[\"WOR\"][index1 + 1]) - float(almostThere[\"WOR\"][index2 + 1]))\n",
        "      wdrList.append(float(almostThere[\"WDR\"][index1 + 1]) - float(almostThere[\"WDR\"][index2 + 1]))\n",
        "      wtoList.append(float(almostThere[\"WTO\"][index1 + 1]) - float(almostThere[\"WTO\"][index2 + 1]))\n",
        "      wstlList.append(float(almostThere[\"WStl\"][index1 + 1]) - float(almostThere[\"WStl\"][index2 + 1]))\n",
        "    else:\n",
        "      seedList.append(0)\n",
        "      worList.append(0)\n",
        "      wdrList.append(0)\n",
        "      wtoList.append(0)\n",
        "      wstlList.append(0)\n",
        "'''\n",
        "worksheetW = gc.open('WNCAATourneySeedsReal').sheet1\n",
        "worksheet = gc.open('MNCAATourneySeedsReal').sheet1\n",
        "\n",
        "rows = worksheet.get_all_values()\n",
        "almostThere = pd.DataFrame.from_records(rows)\n",
        "almostThere.columns=almostThere.iloc[0]\n",
        "almostThere = almostThere[1:]\n",
        "\n",
        "rowsW = worksheetW.get_all_values()\n",
        "almostThereW = pd.DataFrame.from_records(rowsW)\n",
        "almostThereW.columns=almostThereW.iloc[0]\n",
        "almostThereW = almostThereW[1:]\n",
        "\n",
        "\n",
        "seedList = []\n",
        "worList = []\n",
        "wdrList = []\n",
        "wtoList = []\n",
        "wstlList = []\n",
        "\n",
        "for index in range(1, len(sampleOutput[\"Team1\"])):\n",
        "  if int(sampleOutput[\"Team1\"][index]) > 2000:\n",
        "    if sampleOutput[\"Team1\"][index] in list(almostThereW[\"TeamID\"]) and sampleOutput[\"Team2\"][index] in list(almostThereW[\"TeamID\"]):\n",
        "      index1 = list(almostThereW[\"TeamID\"]).index(sampleOutput[\"Team1\"][index])\n",
        "      index2 = list(almostThereW[\"TeamID\"]).index(sampleOutput[\"Team2\"][index])\n",
        "      seedList.append(float(almostThereW[\"Seed\"][index1 + 1]) - float(almostThereW[\"Seed\"][index2 + 1]))\n",
        "      worList.append(float(almostThereW[\"WFGM\"][index1 + 1]) - float(almostThereW[\"WFGM\"][index2 + 1]))\n",
        "      wdrList.append(float(almostThereW[\"WStl\"][index1 + 1]) - float(almostThereW[\"WStl\"][index2 + 1]))\n",
        "      wtoList.append(float(almostThereW[\"LAst\"][index1 + 1]) - float(almostThereW[\"LAst\"][index2 + 1]))\n",
        "      wstlList.append(float(almostThereW[\"LTO\"][index1 + 1]) - float(almostThereW[\"LTO\"][index2 + 1]))\n",
        "    else:\n",
        "      seedList.append(0)\n",
        "      worList.append(0)\n",
        "      wdrList.append(0)\n",
        "      wtoList.append(0)\n",
        "      wstlList.append(0)\n",
        "  else:\n",
        "    if sampleOutput[\"Team1\"][index] in list(almostThere[\"TeamID\"]) and sampleOutput[\"Team2\"][index] in list(almostThere[\"TeamID\"]):\n",
        "      index1 = list(almostThere[\"TeamID\"]).index(sampleOutput[\"Team1\"][index])\n",
        "      index2 = list(almostThere[\"TeamID\"]).index(sampleOutput[\"Team2\"][index])\n",
        "      seedList.append(float(almostThere[\"Seed\"][index1 + 1]) - float(almostThere[\"Seed\"][index2 + 1]))\n",
        "      worList.append(float(almostThere[\"WFGM\"][index1 + 1]) - float(almostThere[\"WFGM\"][index2 + 1]))\n",
        "      wdrList.append(float(almostThere[\"WStl\"][index1 + 1]) - float(almostThere[\"WStl\"][index2 + 1]))\n",
        "      wtoList.append(float(almostThere[\"LAst\"][index1 + 1]) - float(almostThere[\"LAst\"][index2 + 1]))\n",
        "      wstlList.append(float(almostThere[\"LTO\"][index1 + 1]) - float(almostThere[\"LTO\"][index2 + 1]))\n",
        "    else:\n",
        "      seedList.append(0)\n",
        "      worList.append(0)\n",
        "      wdrList.append(0)\n",
        "      wtoList.append(0)\n",
        "      wstlList.append(0)\n",
        "      '''"
      ],
      "metadata": {
        "colab": {
          "base_uri": "https://localhost:8080/",
          "height": 125
        },
        "id": "XPWv9Et_CFHK",
        "outputId": "d2ee6989-7696-40fa-91c5-c956b94290e9"
      },
      "execution_count": 8,
      "outputs": [
        {
          "output_type": "execute_result",
          "data": {
            "text/plain": [
              "'\\nworksheetW = gc.open(\\'WNCAATourneySeedsReal\\').sheet1\\nworksheet = gc.open(\\'MNCAATourneySeedsReal\\').sheet1\\n\\nrows = worksheet.get_all_values()\\nalmostThere = pd.DataFrame.from_records(rows)\\nalmostThere.columns=almostThere.iloc[0]\\nalmostThere = almostThere[1:]\\n\\nrowsW = worksheetW.get_all_values()\\nalmostThereW = pd.DataFrame.from_records(rowsW)\\nalmostThereW.columns=almostThereW.iloc[0]\\nalmostThereW = almostThereW[1:]\\n\\n\\nseedList = []\\nworList = []\\nwdrList = []\\nwtoList = []\\nwstlList = []\\n\\nfor index in range(1, len(sampleOutput[\"Team1\"])):\\n  if int(sampleOutput[\"Team1\"][index]) > 2000:\\n    if sampleOutput[\"Team1\"][index] in list(almostThereW[\"TeamID\"]) and sampleOutput[\"Team2\"][index] in list(almostThereW[\"TeamID\"]):\\n      index1 = list(almostThereW[\"TeamID\"]).index(sampleOutput[\"Team1\"][index])\\n      index2 = list(almostThereW[\"TeamID\"]).index(sampleOutput[\"Team2\"][index])\\n      seedList.append(float(almostThereW[\"Seed\"][index1 + 1]) - float(almostThereW[\"Seed\"][index2 + 1]))\\n      worList.append(float(almostThereW[\"WFGM\"][index1 + 1]) - float(almostThereW[\"WFGM\"][index2 + 1]))\\n      wdrList.append(float(almostThereW[\"WStl\"][index1 + 1]) - float(almostThereW[\"WStl\"][index2 + 1]))\\n      wtoList.append(float(almostThereW[\"LAst\"][index1 + 1]) - float(almostThereW[\"LAst\"][index2 + 1]))\\n      wstlList.append(float(almostThereW[\"LTO\"][index1 + 1]) - float(almostThereW[\"LTO\"][index2 + 1]))\\n    else:\\n      seedList.append(0)\\n      worList.append(0)\\n      wdrList.append(0)\\n      wtoList.append(0)\\n      wstlList.append(0)\\n  else:\\n    if sampleOutput[\"Team1\"][index] in list(almostThere[\"TeamID\"]) and sampleOutput[\"Team2\"][index] in list(almostThere[\"TeamID\"]):\\n      index1 = list(almostThere[\"TeamID\"]).index(sampleOutput[\"Team1\"][index])\\n      index2 = list(almostThere[\"TeamID\"]).index(sampleOutput[\"Team2\"][index])\\n      seedList.append(float(almostThere[\"Seed\"][index1 + 1]) - float(almostThere[\"Seed\"][index2 + 1]))\\n      worList.append(float(almostThere[\"WFGM\"][index1 + 1]) - float(almostThere[\"WFGM\"][index2 + 1]))\\n      wdrList.append(float(almostThere[\"WStl\"][index1 + 1]) - float(almostThere[\"WStl\"][index2 + 1]))\\n      wtoList.append(float(almostThere[\"LAst\"][index1 + 1]) - float(almostThere[\"LAst\"][index2 + 1]))\\n      wstlList.append(float(almostThere[\"LTO\"][index1 + 1]) - float(almostThere[\"LTO\"][index2 + 1]))\\n    else:\\n      seedList.append(0)\\n      worList.append(0)\\n      wdrList.append(0)\\n      wtoList.append(0)\\n      wstlList.append(0)\\n      '"
            ],
            "application/vnd.google.colaboratory.intrinsic+json": {
              "type": "string"
            }
          },
          "metadata": {},
          "execution_count": 8
        }
      ]
    },
    {
      "cell_type": "code",
      "source": [
        "with open(PATH + str(w) + \"warmupTrain2.csv\", \"w\") as file:\n",
        "  for index1 in range(0,len(seedList)):\n",
        "    year = sampleOutput[\"Year\"][index1+1]\n",
        "    team1 = sampleOutput[\"Team1\"][index1+1]\n",
        "    team2 = sampleOutput[\"Team2\"][index1+1]\n",
        "    file.write(f\"{year},{team1},{team2},\")\n",
        "    file.write(f\"{seedList[index1]},{worList[index1]},{wdrList[index1]},{wtoList[index1]},{wstlList[index1]}\\n\")"
      ],
      "metadata": {
        "id": "05G-YvdLK3Zd"
      },
      "execution_count": 5,
      "outputs": []
    }
  ]
}