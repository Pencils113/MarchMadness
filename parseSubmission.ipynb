{
  "nbformat": 4,
  "nbformat_minor": 0,
  "metadata": {
    "colab": {
      "provenance": []
    },
    "kernelspec": {
      "name": "python3",
      "display_name": "Python 3"
    },
    "language_info": {
      "name": "python"
    }
  },
  "cells": [
    {
      "cell_type": "code",
      "execution_count": 24,
      "metadata": {
        "colab": {
          "base_uri": "https://localhost:8080/"
        },
        "id": "VsEXx0h1Z_Kr",
        "outputId": "9c9d94a6-7de3-4c61-90fb-b89a23f0a4b9"
      },
      "outputs": [
        {
          "output_type": "stream",
          "name": "stdout",
          "text": [
            "Drive already mounted at /content/gdrive; to attempt to forcibly remount, call drive.mount(\"/content/gdrive\", force_remount=True).\n"
          ]
        }
      ],
      "source": [
        "import pandas as pd\n",
        "import numpy as np\n",
        "import gspread\n",
        "import statsmodels.formula.api as sm\n",
        "import statsmodels.api as sma\n",
        "from google.auth import default\n",
        "from google.colab import drive\n",
        "from google.colab import auth\n",
        "drive.mount('/content/gdrive')\n",
        "creds, _ = default()\n",
        "gc = gspread.authorize(creds)\n",
        "auth.authenticate_user()"
      ]
    },
    {
      "cell_type": "code",
      "source": [
        "yearList = [2010, 2011, 2012, 2013, 2014, 2015, 2016, 2017, 2018, 2019, 2021, 2022, 2023]\n",
        "colList = [\"WFGM\", \"WFGA\", \"WFGM3\", \"WFGA3\", \"WFTM\", \"WFTA\", \"WOR\", \"WDR\", \"WAst\", \"WTO\", \"WStl\", \"WBlk\", \"WPF\", \"LFGM\", \"LFGA\", \"LFGM3\", \"LFGA3\", \"LFTM\", \"LFTA\", \"LOR\", \"LDR\", \"LAst\", \"LTO\", \"LStl\", \"LBlk\", \"LPF\"]\n",
        "PATH = \"/content/gdrive/MyDrive/ZSchool_Projects/Purdue/Fun/Kaggle2023/\" #Path to storage of Kaggle provided data\n",
        "MIN_M, MAX_M = 1101, 1477\n",
        "MIN_W, MAX_W = 3101, 3477\n",
        "\n",
        "w = False"
      ],
      "metadata": {
        "id": "FDQnC1UvaOY3"
      },
      "execution_count": 88,
      "outputs": []
    },
    {
      "cell_type": "code",
      "source": [
        "worksheet = gc.open('finalModel4').sheet1\n",
        "\n",
        "rows = worksheet.get_all_values()\n",
        "almostThere = pd.DataFrame.from_records(rows)\n",
        "almostThere.columns=almostThere.iloc[0]\n",
        "model = almostThere[1:]\n",
        "\n",
        "teamsM = pd.read_csv(PATH + \"MTeams.csv\")\n",
        "teamsW = pd.read_csv(PATH + \"WTeams.csv\")"
      ],
      "metadata": {
        "id": "pC-k0pbbaRW4"
      },
      "execution_count": 176,
      "outputs": []
    },
    {
      "cell_type": "code",
      "source": [
        "def getTeamName(teamNum):\n",
        "  if teamNum > 2000:\n",
        "    teams = teamsW\n",
        "  else:\n",
        "    teams = teamsM\n",
        "  \n",
        "  teamIDlist = list(teams[\"TeamID\"])\n",
        "  teamTeamNameList = list(teams[\"TeamName\"])\n",
        "\n",
        "  return(teamTeamNameList[teamIDlist.index(teamNum)])\n"
      ],
      "metadata": {
        "id": "mk4sFUsyabIR"
      },
      "execution_count": 177,
      "outputs": []
    },
    {
      "cell_type": "code",
      "source": [
        "team1NameList = []\n",
        "team2NameList = []\n",
        "predList = []\n",
        "for index in range(1,1+len(model[\"Pred\"])):\n",
        "  if float(model[\"Pred\"][index]) != 0.4866544289: #0.4692872367: #0.4866544289: #0.4933272145: #0.4968019711: #0.5050907984:\n",
        "    print(float(model[\"Pred\"][index]))\n",
        "    team1NameList.append(getTeamName(int(model[\"Team1\"][index])))\n",
        "    team2NameList.append(getTeamName(int(model[\"Team2\"][index])))\n",
        "    predList.append(float(model[\"Pred\"][index]))\n",
        "\n",
        "teamList = []\n",
        "\n",
        "for index in range(len(team1NameList)):\n",
        "  teamList.append(team1NameList[index] + team2NameList[index])"
      ],
      "metadata": {
        "id": "Jlkt_hdFbjxN"
      },
      "execution_count": null,
      "outputs": []
    },
    {
      "cell_type": "code",
      "source": [
        "def getProb(teamName, teamName2):\n",
        "  if teamName + teamName2 in teamList:\n",
        "    return str(predList[teamList.index(teamName + teamName2)]) + \" \" + teamName + \" beating \" + teamName2\n",
        "  elif teamName2 + teamName in teamList:\n",
        "    return str(predList[teamList.index(teamName2 + teamName)]) + \" \" + teamName2 + \" beating \" + teamName\n"
      ],
      "metadata": {
        "id": "FRadcQqFdlBG"
      },
      "execution_count": 179,
      "outputs": []
    },
    {
      "cell_type": "code",
      "source": [
        "print(getProb('Alabama','Texas A&M'))\n",
        "print(getProb('Maryland','West Virginia'))\n",
        "print(getProb('San Diego St','Col Charleston'))\n",
        "print(getProb('Virginia','Furman'))\n",
        "print(getProb('Virginia','San Diego St'))\n",
        "print(getProb('Maryland','Alabama'))\n",
        "print(getProb('Virginia','Alabama'))\n",
        "print(getProb('Purdue','Memphis'))\n",
        "print(getProb('Purdue','FL Atlantic'))\n",
        "print(getProb('Indiana', 'Kent'))\n",
        "print(getProb('Miami FL', 'Drake'))\n",
        "print(getProb('Arizona', 'Princeton'))\n",
        "print(getProb('Kansas', 'Howard'))\n",
        "print(getProb('Purdue', 'Houston'))\n",
        "print(getProb('Alabama', 'Purdue'))\n",
        "print(getProb('Texas A&M', 'Purdue'))\n"
      ],
      "metadata": {
        "colab": {
          "base_uri": "https://localhost:8080/"
        },
        "id": "uJhSJOb2dB45",
        "outputId": "1e518ce2-07c3-4cd4-d3bf-0c59398f2514"
      },
      "execution_count": 180,
      "outputs": [
        {
          "output_type": "stream",
          "name": "stdout",
          "text": [
            "0.8046460519 Alabama beating Texas A&M\n",
            "0.5414902452 Maryland beating West Virginia\n",
            "0.4123668526 Col Charleston beating San Diego St\n",
            "0.4650790478 Furman beating Virginia\n",
            "0.4790514027 San Diego St beating Virginia\n",
            "0.6806239398 Alabama beating Maryland\n",
            "0.671808244 Alabama beating Virginia\n",
            "0.4405143103 Memphis beating Purdue\n",
            "0.5516341007 FL Atlantic beating Purdue\n",
            "0.7178662648 Indiana beating Kent\n",
            "0.4121855242 Drake beating Miami FL\n",
            "0.7024468091 Arizona beating Princeton\n",
            "0.1356691849 Howard beating Kansas\n",
            "0.6072367867 Houston beating Purdue\n",
            "0.6339927229 Alabama beating Purdue\n",
            "0.6649620329 Purdue beating Texas A&M\n"
          ]
        }
      ]
    },
    {
      "cell_type": "code",
      "source": [
        "team1 = 'Gonzaga'\n",
        "team2 = 'Alabama'\n",
        "\n",
        "print(getProb(team1, team2))"
      ],
      "metadata": {
        "colab": {
          "base_uri": "https://localhost:8080/"
        },
        "id": "KFojRT6Bt2sS",
        "outputId": "48ab6876-654d-4c12-da2a-75fe65f3d7a0"
      },
      "execution_count": 260,
      "outputs": [
        {
          "output_type": "stream",
          "name": "stdout",
          "text": [
            "0.4364750839 Alabama beating Gonzaga\n"
          ]
        }
      ]
    },
    {
      "cell_type": "code",
      "source": [],
      "metadata": {
        "id": "2exDaW61B_Je"
      },
      "execution_count": null,
      "outputs": []
    }
  ]
}