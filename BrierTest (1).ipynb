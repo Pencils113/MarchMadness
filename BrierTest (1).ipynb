{
  "nbformat": 4,
  "nbformat_minor": 0,
  "metadata": {
    "colab": {
      "provenance": []
    },
    "kernelspec": {
      "name": "python3",
      "display_name": "Python 3"
    },
    "language_info": {
      "name": "python"
    }
  },
  "cells": [
    {
      "cell_type": "code",
      "execution_count": 2,
      "metadata": {
        "colab": {
          "base_uri": "https://localhost:8080/"
        },
        "id": "Xab7VuHC1RIJ",
        "outputId": "4e0cc06a-abeb-4b75-cde6-dea7f5e75c39"
      },
      "outputs": [
        {
          "output_type": "stream",
          "name": "stdout",
          "text": [
            "Mounted at /content/gdrive\n"
          ]
        }
      ],
      "source": [
        "import pandas as pd\n",
        "import numpy as np\n",
        "import gspread\n",
        "from google.auth import default\n",
        "from google.colab import drive\n",
        "from google.colab import auth\n",
        "drive.mount('/content/gdrive')\n",
        "creds, _ = default()\n",
        "gc = gspread.authorize(creds)\n",
        "auth.authenticate_user()\n",
        "PATH = \"/content/gdrive/MyDrive/ZSchool_Projects/Purdue/Fun/Kaggle2023/\""
      ]
    },
    {
      "cell_type": "code",
      "source": [
        "data = []\n",
        "for x in range(1, 6):\n",
        "  data.append(pd.read_csv(PATH + f\"realOut{x}.csv\"))\n"
      ],
      "metadata": {
        "id": "MCReMR7U1gLz"
      },
      "execution_count": 3,
      "outputs": []
    },
    {
      "cell_type": "code",
      "source": [
        "nonImportantPoints = []\n",
        "\n",
        "for x in range(5):\n",
        "  nonImportantPoints.append(data[x][\"Pred\"][0])"
      ],
      "metadata": {
        "id": "t9lEArgxjMm7"
      },
      "execution_count": 4,
      "outputs": []
    },
    {
      "cell_type": "code",
      "source": [
        "results = pd.read_csv(PATH + \"kaggleResults4_4.csv\")"
      ],
      "metadata": {
        "id": "8HdGyvOilo63"
      },
      "execution_count": 5,
      "outputs": []
    },
    {
      "cell_type": "code",
      "source": [
        "errorList = [0] * 5\n",
        "countGames = 0\n",
        "\n",
        "for game in range(len(results[\"Pred\"])):\n",
        "  if int(results[\"Pred\"][game] != -1):\n",
        "    thisID = results[\"ID\"][game]\n",
        "    for x in range(5):\n",
        "      for game2 in range(len(data[x][\"ID\"])):\n",
        "        if data[x][\"ID\"][game2] == thisID:\n",
        "          thisPred = float(data[x][\"Pred\"][game2])\n",
        "          break\n",
        "      error = np.abs(thisPred - float(results[\"Pred\"][game])) ** 2\n",
        "      errorList[x] += error\n",
        "    countGames += 1\n",
        "\n",
        "for x in range(5):\n",
        "  errorList[x] /= countGames"
      ],
      "metadata": {
        "id": "a3cPGoTVmLjy"
      },
      "execution_count": 6,
      "outputs": []
    },
    {
      "cell_type": "code",
      "source": [
        "nameList = [\n",
        "    \"Pure untampered regression SeedDiff, WORDiff, WDRDiff, WTODiff, WStlDiff, og file Falseout (9).csv, \",\n",
        "    \"Not 100% sure but probably untampered regression with SeedDiff, WFGMDiff, WStlDiff, LAstDiff, LTODiff, og file Falseout2.csv\",\n",
        "    \"Regression with seeddiff coeff constrained to 0.25 SeedDiff, WFGMDiff, WStlDiff, LAstDiff, LTODiff, og file Falseout3.csv \",\n",
        "    \"Model 4 (submitted), SeedDiff, WFGMDiff, WStlDiff, LAstDiff, LTODiff with seeddiff constrained and certainty doubled, og file Falseout4.csv\",\n",
        "    \"Model 5 (submitted), SeedDiff, WORDiff, WDRDiff, WTODiff, WStlDiff with seeddiff constrained and certainty doubled, og file Falseout5.csv\"\n",
        "]"
      ],
      "metadata": {
        "id": "2MocPkdkpqAs"
      },
      "execution_count": 7,
      "outputs": []
    },
    {
      "cell_type": "code",
      "source": [
        "for x in range(5):\n",
        "  print(round(errorList[x],6), nameList[x])"
      ],
      "metadata": {
        "colab": {
          "base_uri": "https://localhost:8080/"
        },
        "id": "i5rON3o4pSWE",
        "outputId": "bf1020dd-41d5-4d55-81c5-aa060b5e1662"
      },
      "execution_count": 8,
      "outputs": [
        {
          "output_type": "stream",
          "name": "stdout",
          "text": [
            "0.187141 Pure untampered regression SeedDiff, WORDiff, WDRDiff, WTODiff, WStlDiff, og file Falseout (9).csv, \n",
            "0.185361 Not 100% sure but probably untampered regression with SeedDiff, WFGMDiff, WStlDiff, LAstDiff, LTODiff, og file Falseout2.csv\n",
            "0.217064 Regression with seeddiff coeff constrained to 0.25 SeedDiff, WFGMDiff, WStlDiff, LAstDiff, LTODiff, og file Falseout3.csv \n",
            "0.199976 Model 4 (submitted), SeedDiff, WFGMDiff, WStlDiff, LAstDiff, LTODiff with seeddiff constrained and certainty doubled, og file Falseout4.csv\n",
            "0.259278 Model 5 (submitted), SeedDiff, WORDiff, WDRDiff, WTODiff, WStlDiff with seeddiff constrained and certainty doubled, og file Falseout5.csv\n"
          ]
        }
      ]
    }
  ]
}